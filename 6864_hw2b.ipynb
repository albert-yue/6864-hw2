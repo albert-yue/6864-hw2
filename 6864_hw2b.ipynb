{
  "nbformat": 4,
  "nbformat_minor": 0,
  "metadata": {
    "colab": {
      "name": "6864-hw2b.ipynb",
      "provenance": [],
      "collapsed_sections": [],
      "toc_visible": true,
      "machine_shape": "hm",
      "include_colab_link": true
    },
    "kernelspec": {
      "name": "python3",
      "display_name": "Python 3"
    },
    "accelerator": "GPU"
  },
  "cells": [
    {
      "cell_type": "markdown",
      "metadata": {
        "id": "view-in-github",
        "colab_type": "text"
      },
      "source": [
        "<a href=\"https://colab.research.google.com/github/albert-yue/6864-hw2/blob/master/6864_hw2b.ipynb\" target=\"_parent\"><img src=\"https://colab.research.google.com/assets/colab-badge.svg\" alt=\"Open In Colab\"/></a>"
      ]
    },
    {
      "cell_type": "code",
      "metadata": {
        "id": "FU7xWiY6TyWS",
        "colab_type": "code",
        "colab": {}
      },
      "source": [
        "%%bash\n",
        "!(stat -t /usr/local/lib/*/dist-packages/google/colab > /dev/null 2>&1) && exit\n",
        "rm -rf 6864-hw2b"
      ],
      "execution_count": 0,
      "outputs": []
    },
    {
      "cell_type": "code",
      "metadata": {
        "id": "5AyMA9rK1Rhf",
        "colab_type": "code",
        "colab": {}
      },
      "source": [
        "import os\n",
        "os.makedirs(\"6864-hw2b\", exist_ok=True)\n",
        "import sys\n",
        "sys.path.append(\"/content/6864-hw2b\")"
      ],
      "execution_count": 0,
      "outputs": []
    },
    {
      "cell_type": "code",
      "metadata": {
        "id": "BL1IfnRdPdsl",
        "colab_type": "code",
        "outputId": "fe0f2682-4b60-4b88-9964-19acb119448a",
        "colab": {
          "base_uri": "https://localhost:8080/",
          "height": 69
        }
      },
      "source": [
        "!pip install sacrebleu"
      ],
      "execution_count": 0,
      "outputs": [
        {
          "output_type": "stream",
          "text": [
            "Requirement already satisfied: sacrebleu in /usr/local/lib/python3.6/dist-packages (1.4.4)\n",
            "Requirement already satisfied: typing in /usr/local/lib/python3.6/dist-packages (from sacrebleu) (3.6.6)\n",
            "Requirement already satisfied: portalocker in /usr/local/lib/python3.6/dist-packages (from sacrebleu) (1.6.0)\n"
          ],
          "name": "stdout"
        }
      ]
    },
    {
      "cell_type": "markdown",
      "metadata": {
        "id": "5fOArV2r9Piz",
        "colab_type": "text"
      },
      "source": [
        "# **Part 3: Sequence-to-Sequence Model**\n",
        "\n"
      ]
    },
    {
      "cell_type": "markdown",
      "metadata": {
        "id": "mA9JfWiK9eoL",
        "colab_type": "text"
      },
      "source": [
        "In this lab, you will explore RNN-based sequence-to-sequence (seq2seq) models to perform machine translation (MT). We will use a Vietnamese-English dataset from IWSLT'15. The task is to translate a Vietnamese sentence into English.\n",
        "\n",
        "The lab is divided into two parts. The first part is to implement a vanilla seq2seq architecture without attention. In the second part you will implement your favorite attention mechanism (doesn't have to come from lecture) and add it to your vanilla seq2seq model. We will provide the training and testing scripts (trust me, the decoding/testing is actually the hardest part :P), so you will mainly just have to focus on implementing the models (I say *mainly* because you still might need to modify the testing script, depending on which attention method you use and how you implement it).\n"
      ]
    },
    {
      "cell_type": "markdown",
      "metadata": {
        "id": "zDJjmvZfHV_l",
        "colab_type": "text"
      },
      "source": [
        "## **Section 1: Data Preprocessing**\n",
        "\n",
        "No need to write any code in this section. But you are encouraged to test with this part to understand the data.\n",
        "\n",
        "First, we download the dataset and place it under current directory."
      ]
    },
    {
      "cell_type": "code",
      "metadata": {
        "id": "02RioHPryvOz",
        "colab_type": "code",
        "outputId": "de63d2b4-3135-4861-a2f9-2ade7f087af1",
        "colab": {
          "base_uri": "https://localhost:8080/",
          "height": 121
        }
      },
      "source": [
        "# Download data\n",
        "!wget -nv -O /content/6864-hw2b/train.en https://nlp.stanford.edu/projects/nmt/data/iwslt15.en-vi/train.en\n",
        "!wget -nv -O /content/6864-hw2b/train.vi https://nlp.stanford.edu/projects/nmt/data/iwslt15.en-vi/train.vi\n",
        "!wget -nv -O /content/6864-hw2b/tst2013.en https://nlp.stanford.edu/projects/nmt/data/iwslt15.en-vi/tst2013.en\n",
        "!wget -nv -O /content/6864-hw2b/tst2013.vi https://nlp.stanford.edu/projects/nmt/data/iwslt15.en-vi/tst2013.vi\n",
        "!wget -nv -O /content/6864-hw2b/vocab.en https://nlp.stanford.edu/projects/nmt/data/iwslt15.en-vi/vocab.en\n",
        "!wget -nv -O /content/6864-hw2b/vocab.vi https://nlp.stanford.edu/projects/nmt/data/iwslt15.en-vi/vocab.vi"
      ],
      "execution_count": 0,
      "outputs": [
        {
          "output_type": "stream",
          "text": [
            "2020-03-24 03:55:49 URL:https://nlp.stanford.edu/projects/nmt/data/iwslt15.en-vi/train.en [13603614/13603614] -> \"/content/6864-hw2b/train.en\" [1]\n",
            "2020-03-24 03:55:59 URL:https://nlp.stanford.edu/projects/nmt/data/iwslt15.en-vi/train.vi [18074646/18074646] -> \"/content/6864-hw2b/train.vi\" [1]\n",
            "2020-03-24 03:56:00 URL:https://nlp.stanford.edu/projects/nmt/data/iwslt15.en-vi/tst2013.en [132264/132264] -> \"/content/6864-hw2b/tst2013.en\" [1]\n",
            "2020-03-24 03:56:01 URL:https://nlp.stanford.edu/projects/nmt/data/iwslt15.en-vi/tst2013.vi [183855/183855] -> \"/content/6864-hw2b/tst2013.vi\" [1]\n",
            "2020-03-24 03:56:02 URL:https://nlp.stanford.edu/projects/nmt/data/iwslt15.en-vi/vocab.en [139741/139741] -> \"/content/6864-hw2b/vocab.en\" [1]\n",
            "2020-03-24 03:56:04 URL:https://nlp.stanford.edu/projects/nmt/data/iwslt15.en-vi/vocab.vi [46767/46767] -> \"/content/6864-hw2b/vocab.vi\" [1]\n"
          ],
          "name": "stdout"
        }
      ]
    },
    {
      "cell_type": "markdown",
      "metadata": {
        "id": "ogFESHAf-6MY",
        "colab_type": "text"
      },
      "source": [
        "Next, we do some simple data preprocessing and show some data statistics."
      ]
    },
    {
      "cell_type": "code",
      "metadata": {
        "id": "OfkQGqV30hgC",
        "colab_type": "code",
        "outputId": "c5596f9f-83e9-4cdb-d6cc-d96809eba23b",
        "colab": {
          "base_uri": "https://localhost:8080/",
          "height": 455
        }
      },
      "source": [
        "import numpy as np\n",
        "import matplotlib.pyplot as plt\n",
        "\n",
        "\n",
        "def read_sentence_file(filename):\n",
        "  sentences_list = []\n",
        "  with open(filename, \"r\") as f:\n",
        "    for line in f:\n",
        "      sentences_list.append(line.strip().split())\n",
        "  return sentences_list\n",
        "\n",
        "def read_vocab_file(filename):\n",
        "  with open(filename, \"r\") as f:\n",
        "    return [line.strip() for line in f]\n",
        "\n",
        "\n",
        "src_vocab_set = read_vocab_file(os.path.join(\"/content/6864-hw2b\", \"vocab.vi\"))\n",
        "trg_vocab_set = read_vocab_file(os.path.join(\"/content/6864-hw2b\", \"vocab.en\"))\n",
        "\n",
        "train_src_sentences_list = read_sentence_file(os.path.join(\"/content/6864-hw2b\",\n",
        "                                                           \"train.vi\"))\n",
        "train_trg_sentences_list = read_sentence_file(os.path.join(\"/content/6864-hw2b\",\n",
        "                                                           \"train.en\"))\n",
        "assert len(train_src_sentences_list) == len(train_trg_sentences_list)\n",
        "\n",
        "test_src_sentences_list = read_sentence_file(os.path.join(\"/content/6864-hw2b\",\n",
        "                                                          \"tst2013.vi\"))\n",
        "test_trg_sentences_list = read_sentence_file(os.path.join(\"/content/6864-hw2b\",\n",
        "                                                          \"tst2013.en\"))\n",
        "assert len(test_src_sentences_list) == len(test_trg_sentences_list)\n",
        "\n",
        "\n",
        "MAX_SENT_LENGTH = 48\n",
        "MAX_SENT_LENGTH_PLUS_SOS_EOS = 50\n",
        "\n",
        "# We only keep sentences that do not exceed 48 words, so that later when we\n",
        "# add <s> and </s> to a sentence it still won't exceed 50 words.\n",
        "def filter_data(src_sentences_list, trg_sentences_list, max_len):\n",
        "  new_src_sentences_list, new_trg_sentences_list = [], []\n",
        "  for src_sent, trg_sent in zip(src_sentences_list, trg_sentences_list):\n",
        "    if (len(src_sent) <= max_len and len(trg_sent) <= max_len\n",
        "        and len(src_sent) > 0 and len(trg_sent)) > 0:\n",
        "      new_src_sentences_list.append(src_sent)\n",
        "      new_trg_sentences_list.append(trg_sent)\n",
        "  return new_src_sentences_list, new_trg_sentences_list\n",
        "\n",
        "train_src_sentences_list, train_trg_sentences_list = filter_data(\n",
        "    train_src_sentences_list, train_trg_sentences_list, max_len=MAX_SENT_LENGTH)\n",
        "test_src_sentences_list, test_trg_sentences_list = filter_data(\n",
        "    test_src_sentences_list, test_trg_sentences_list, max_len=MAX_SENT_LENGTH)\n",
        "\n",
        "# We take 10% of training data as validation set.\n",
        "num_val = int(len(train_src_sentences_list) * 0.1)\n",
        "val_src_sentences_list = train_src_sentences_list[:num_val]\n",
        "val_trg_sentences_list = train_trg_sentences_list[:num_val]\n",
        "train_src_sentences_list = train_src_sentences_list[num_val:]\n",
        "train_trg_sentences_list = train_trg_sentences_list[num_val:]\n",
        "\n",
        "# Show some data stats\n",
        "print(\"Number of training (src, trg) sentence pairs: %d\" %\n",
        "      len(train_src_sentences_list))\n",
        "print(\"Number of validation (src, trg) sentence pairs: %d\" %\n",
        "      len(val_src_sentences_list))\n",
        "print(\"Number of testing (src, trg) sentence pairs: %d\" %\n",
        "      len(test_src_sentences_list))\n",
        "src_vocab_set = ['<pad>'] + src_vocab_set\n",
        "trg_vocab_set = ['<pad>'] + trg_vocab_set\n",
        "print(\"Size of en vocab set (including '<pad>', '<unk>', '<s>', '</s>'): %d\" %\n",
        "      len(src_vocab_set))\n",
        "print(\"Size of vi vocab set (including '<pad>', '<unk>', '<s>', '</s>'): %d\" %\n",
        "      len(trg_vocab_set))\n",
        "\n",
        "length = [len(sent) for sent in train_src_sentences_list]\n",
        "print('Training sentence avg. length: %d ' % np.mean(length))\n",
        "print('Training sentence length at 95-percentile: %d' %\n",
        "      np.percentile(length, 95))\n",
        "print('Training sentence length distribution '\n",
        "      '(x-axis is length range and y-axis is count):\\n')\n",
        "plt.hist(length, bins=5)\n",
        "plt.show()\n",
        "\n",
        "print('Example Vietnamese input: ' + str(train_src_sentences_list[0]))\n",
        "print('Its target English output: ' + str(train_trg_sentences_list[0]))"
      ],
      "execution_count": 0,
      "outputs": [
        {
          "output_type": "stream",
          "text": [
            "Number of training (src, trg) sentence pairs: 108748\n",
            "Number of validation (src, trg) sentence pairs: 12083\n",
            "Number of testing (src, trg) sentence pairs: 1139\n",
            "Size of en vocab set (including '<pad>', '<unk>', '<s>', '</s>'): 7710\n",
            "Size of vi vocab set (including '<pad>', '<unk>', '<s>', '</s>'): 17192\n",
            "Training sentence avg. length: 20 \n",
            "Training sentence length at 95-percentile: 42\n",
            "Training sentence length distribution (x-axis is length range and y-axis is count):\n",
            "\n"
          ],
          "name": "stdout"
        },
        {
          "output_type": "display_data",
          "data": {
            "image/png": "[encoded data removed]",
            "text/plain": [
              "<Figure size 432x288 with 1 Axes>"
            ]
          },
          "metadata": {
            "tags": []
          }
        },
        {
          "output_type": "stream",
          "text": [
            "Example Vietnamese input: ['Adam', 'Sadowsky', 'dàn', 'dựng', '1', 'video', 'âm', 'nhạc', 'hiện', 'tượng', '.']\n",
            "Its target English output: ['Adam', 'Sadowsky', ':', 'How', 'to', 'engineer', 'a', 'viral', 'music', 'video']\n"
          ],
          "name": "stdout"
        }
      ]
    },
    {
      "cell_type": "markdown",
      "metadata": {
        "id": "J2x0lhVm_Yxx",
        "colab_type": "text"
      },
      "source": [
        "Here we define a class called `MTDataset`. It is built on top of the efficient data loader API provided in PyTorch. See Section 5 for explanation."
      ]
    },
    {
      "cell_type": "code",
      "metadata": {
        "id": "muwDBzXM5ijT",
        "colab_type": "code",
        "colab": {}
      },
      "source": [
        "import torch\n",
        "from torch.utils import data\n",
        "\n",
        "device = \"cuda\" if torch.cuda.is_available() else \"cpu\"\n",
        "assert device == \"cuda\"   # use gpu whenever you can!\n",
        "\n",
        "seed = 42\n",
        "np.random.seed(seed)\n",
        "torch.manual_seed(seed)\n",
        "torch.cuda.manual_seed(seed)\n",
        "\n",
        "\n",
        "# These IDs are reserved.\n",
        "PAD_INDEX = 0\n",
        "UNK_INDEX = 1\n",
        "SOS_INDEX = 2\n",
        "EOS_INDEX = 3\n",
        "\n",
        "\n",
        "class MTDataset(data.Dataset):\n",
        "  def __init__(self, src_sentences, src_vocabs, trg_sentences, trg_vocabs,\n",
        "               sampling=1.):\n",
        "    self.src_sentences = src_sentences[:int(len(src_sentences) * sampling)]\n",
        "    self.trg_sentences = trg_sentences[:int(len(src_sentences) * sampling)]\n",
        "\n",
        "    self.max_src_seq_length = MAX_SENT_LENGTH_PLUS_SOS_EOS\n",
        "    self.max_trg_seq_length = MAX_SENT_LENGTH_PLUS_SOS_EOS\n",
        "\n",
        "    self.src_vocabs = src_vocabs\n",
        "    self.trg_vocabs = trg_vocabs\n",
        "\n",
        "    self.src_v2id = {v : i for i, v in enumerate(src_vocabs)}\n",
        "    self.src_id2v = {val : key for key, val in self.src_v2id.items()}\n",
        "    self.trg_v2id = {v : i for i, v in enumerate(trg_vocabs)}\n",
        "    self.trg_id2v = {val : key for key, val in self.trg_v2id.items()}\n",
        "\n",
        "  def __len__(self):\n",
        "    return len(self.src_sentences)\n",
        "\n",
        "  def __getitem__(self, index):\n",
        "    src_sent = self.src_sentences[index]\n",
        "    src_len = len(src_sent) + 2   # add <s> and </s> to each sentence\n",
        "    src_id = []\n",
        "    for w in src_sent:\n",
        "      if w not in self.src_vocabs:\n",
        "        w = '<unk>'\n",
        "      src_id.append(self.src_v2id[w])\n",
        "    src_id = ([SOS_INDEX] + src_id + [EOS_INDEX] + [PAD_INDEX] *\n",
        "              (self.max_src_seq_length - src_len))\n",
        "\n",
        "    trg_sent = self.trg_sentences[index]\n",
        "    trg_len = len(trg_sent) + 2\n",
        "    trg_id = []\n",
        "    for w in trg_sent:\n",
        "      if w not in self.trg_vocabs:\n",
        "        w = '<unk>'\n",
        "      trg_id.append(self.trg_v2id[w])\n",
        "    trg_id = ([SOS_INDEX] + trg_id + [EOS_INDEX] + [PAD_INDEX] *\n",
        "              (self.max_trg_seq_length - trg_len))\n",
        "\n",
        "    return torch.tensor(src_id), src_len, torch.tensor(trg_id), trg_len"
      ],
      "execution_count": 0,
      "outputs": []
    },
    {
      "cell_type": "markdown",
      "metadata": {
        "id": "kb5gQEp7oVdi",
        "colab_type": "text"
      },
      "source": [
        "## **Section 2: Encoder**\n",
        "\n",
        "Seq2seq consists of an Encoder RNN and a decoder RNN. In a vanilla seq2seq model where there is no attention mechanism between encoder and decoder, the encoder aims to compress the information contained in the entire input sequence into a single vector and pass it to decoder.\n",
        "\n",
        "We start with implementing the encoder, which is just a simple RNN. We use a GRU here, but feel free to try other cell types."
      ]
    },
    {
      "cell_type": "code",
      "metadata": {
        "id": "dnwVGDVkoPt0",
        "colab_type": "code",
        "colab": {}
      },
      "source": [
        "import torch.nn as nn\n",
        "import torch.nn.functional as F\n",
        "from torch.nn.utils.rnn import pack_padded_sequence, pad_packed_sequence\n",
        "\n",
        "\n",
        "class Encoder(nn.Module):\n",
        "  def __init__(self, input_size, hidden_size, dropout=0.0, num_layers=1, bidirectional=False):\n",
        "    \"\"\"\n",
        "    Inputs: \n",
        "      - `input_size`: an int representing the RNN input size.\n",
        "      - `hidden_size`: an int representing the RNN hidden size.\n",
        "      - `dropout`: a float representing the dropout rate during training. Note\n",
        "          that for 1-layer RNN this has no effect since dropout only applies to\n",
        "          outputs of intermediate layers.\n",
        "    \"\"\"\n",
        "    super(Encoder, self).__init__()\n",
        "    self.input_size = input_size\n",
        "    self.hidden_size = hidden_size\n",
        "    self.dropout = dropout\n",
        "    self.num_layers = num_layers\n",
        "    self.num_directions = 2 if bidirectional else 1\n",
        "    # Note: for lab writeup question #4, you can directly change `num_layers`\n",
        "    # and `bidirectional` here to enable deep/bidirectional RNNs. However, you\n",
        "    # will also need to modify some parts in the rest of the code accordingly.\n",
        "    self.rnn = nn.GRU(input_size, hidden_size, num_layers=num_layers, batch_first=True,\n",
        "                      dropout=dropout, bidirectional=bidirectional)\n",
        "\n",
        "  def forward(self, inputs, lengths):\n",
        "    \"\"\"\n",
        "    Inputs:\n",
        "      - `inputs`: a 3d-tensor of shape (batch_size, max_seq_length, embed_size)\n",
        "          representing a batch of padded embedded word vectors of source\n",
        "          sentences.\n",
        "      - `lengths`: a 1d-tensor of shape (batch_size,) representing the sequence\n",
        "          lengths of `inputs`.\n",
        "\n",
        "    Returns:\n",
        "      - `outputs`: The outputs of the encoder RNN. A 3d-tensor of shape\n",
        "        (batch_size, max_seq_length, hidden_size).\n",
        "      - `finals`: The final hidden states of the encoder RNN. A 3d-tensor of \n",
        "          shape (num_layers * num_directions, batch_size, hidden_size).\n",
        "      Hint: `outputs` and `finals` are both standard GRU outputs. Check:\n",
        "      https://pytorch.org/docs/stable/nn.html#gru\n",
        "    \"\"\"\n",
        "    ### Your code here!\n",
        "    max_len = inputs.size(1)\n",
        "    packed_seq = pack_padded_sequence(inputs, lengths, batch_first=True, enforce_sorted=False)\n",
        "    outputs, finals = self.rnn(packed_seq)\n",
        "    outputs, lengths = pad_packed_sequence(outputs, batch_first=True, padding_value=PAD_INDEX, total_length=max_len)\n",
        "\n",
        "    return outputs, finals"
      ],
      "execution_count": 0,
      "outputs": []
    },
    {
      "cell_type": "markdown",
      "metadata": {
        "id": "8Oz3Kc4QKyEP",
        "colab_type": "text"
      },
      "source": [
        "## **Section 3: Decoder**\n",
        "\n",
        "Here you will implement a decoder RNN that uses encoder's last hidden state to initialize its initial hidden state."
      ]
    },
    {
      "cell_type": "code",
      "metadata": {
        "id": "JYT0BlfYUJXj",
        "colab_type": "code",
        "colab": {}
      },
      "source": [
        "class Decoder(nn.Module):\n",
        "  \"\"\"An RNN decoder without attention.\"\"\"\n",
        "\n",
        "  def __init__(self, input_size, hidden_size, dropout=0.0, num_layers=1, num_enc_layers=None):\n",
        "    \"\"\"\n",
        "      Inputs:\n",
        "        - `input_size`, `hidden_size`, and `dropout` the same as in Encoder.\n",
        "        - `num_enc_layers`: number of layers in the corresponding encoder.\n",
        "            When defined, creates a linear layer to pass the concatenation of\n",
        "            the encoder final hidden states `encoder_finals` to dim `hidden_size`\n",
        "            Equal to num_layers * num_directions in the encoder.\n",
        "            Default: `None`, in which case no linear layer is initialized and\n",
        "            number of encoder layers is assumed to be the same.\n",
        "    \"\"\"\n",
        "    super(Decoder, self).__init__()\n",
        "\n",
        "    ### Your code here!\n",
        "    self.input_size = input_size\n",
        "    self.hidden_size = hidden_size\n",
        "    self.dropout = dropout\n",
        "    self.num_layers = num_layers\n",
        "    self.num_enc_layers = num_enc_layers\n",
        "    if num_enc_layers is not None:\n",
        "      self.hidden_initializer = nn.Linear(num_enc_layers * hidden_size, num_layers * hidden_size)\n",
        "    else:\n",
        "      self.hidden_initializer = None\n",
        "\n",
        "    self.rnn = nn.GRU(input_size, hidden_size, num_layers=num_layers, batch_first=True,\n",
        "                      dropout=dropout, bidirectional=False)\n",
        "\n",
        "    \n",
        "  def forward(self, inputs, encoder_finals, hidden=None, max_len=None):\n",
        "    \"\"\"Unroll the decoder one step at a time.\n",
        "\n",
        "    Inputs:\n",
        "      - `inputs`: a 3d-tensor of shape (batch_size, max_seq_length-1, embed_size)\n",
        "          representing a batch of padded embedded word vectors of target\n",
        "          sentences (for teacher-forcing during training).\n",
        "      - `encoder_finals`: a 3d-tensor of shape\n",
        "          (num_enc_layers, batch_size, hidden_size) representing the final\n",
        "          encoder hidden states used to initialize the initial decoder hidden\n",
        "          states.\n",
        "      - `hidden`: a 3d-tensor of shape (1, batch_size, hidden_size) representing\n",
        "          the value to be used to initialize the initial decoder hidden states.\n",
        "          If None, then use `encoder_finals`.\n",
        "      - `max_len`: an int representing the maximum decoding length.\n",
        "\n",
        "    Returns:\n",
        "      - `outputs`: a 3d-tensor of shape\n",
        "          (batch_size, max_seq_length, hidden_size) representing the raw\n",
        "          decoder outputs (before converting to a `trg_vocab_size`-dim vector).\n",
        "          We will convert it later in a `Generator` below.\n",
        "      - `hidden`: a 3d-tensor of shape (1, batch_size, hidden_size)\n",
        "          representing the last decoder hidden state.\n",
        "    \"\"\"\n",
        "    if self.num_enc_layers is not None:\n",
        "      assert encoder_finals.size(0) == self.num_enc_layers, \\\n",
        "        'Decoder expected {} layer, but encoder_finals has {} layers.'.format(self.num_enc_layers, encoder_finals.size(0))\n",
        "    else:\n",
        "      assert encoder_finals.size(0) == self.num_layers, \\\n",
        "        'Decoder expected same number of layers by default, but encoder_finals has {} layers.'.format(self.num_layers, encoder_finals.size(0))\n",
        "\n",
        "    # The maximum number of steps to unroll the RNN.\n",
        "    if max_len is None:\n",
        "      max_len = inputs.size(1)\n",
        "\n",
        "    # Initialize decoder hidden state.\n",
        "    if hidden is None:\n",
        "      hidden = self.init_hidden(encoder_finals)\n",
        "\n",
        "    ### Your code here!\n",
        "    # outs = []\n",
        "    # for t in range(max_len):\n",
        "    #   prev = inputs[:, t:t+1, :]  # shape (batch_size, hidden_size)\n",
        "    #   out, hidden = self.rnn(prev, hidden)\n",
        "    #   outs.append(out)\n",
        "    # outputs = torch.cat(outs, dim=1)\n",
        "    outputs, hidden = self.rnn(inputs, hidden)\n",
        "\n",
        "    return hidden, outputs\n",
        "\n",
        "  def init_hidden(self, encoder_finals):\n",
        "    \"\"\"Use encoder final hidden state to initialize decoder's first hidden\n",
        "    state.\"\"\"\n",
        "    ### Your code here!\n",
        "    if self.hidden_initializer is None:\n",
        "      decoder_init_hiddens = encoder_finals\n",
        "    else:\n",
        "      finals_by_layer = tuple(encoder_finals)\n",
        "      finals_batch = torch.cat(finals_by_layer, dim=-1)  # shape: (batch_size, num_enc_layers * hidden_size)\n",
        "      out = self.hidden_initializer(finals_batch)  # shape: (batch_size, num_layers * hidden_size)\n",
        "      decoder_init_hiddens = torch.stack(torch.chunk(out, self.num_layers, dim=-1))\n",
        "\n",
        "    return decoder_init_hiddens"
      ],
      "execution_count": 0,
      "outputs": []
    },
    {
      "cell_type": "markdown",
      "metadata": {
        "id": "AH0VdHE2_x1k",
        "colab_type": "text"
      },
      "source": [
        "Define the high level encoder-decoder class to wrap up sub-models, including encoder, decoder, generator, and src/trg embeddings."
      ]
    },
    {
      "cell_type": "code",
      "metadata": {
        "id": "nNBaAYB_oHxG",
        "colab_type": "code",
        "colab": {}
      },
      "source": [
        "class EncoderDecoder(nn.Module):\n",
        "  \"\"\"A standard Encoder-Decoder architecture without attention.\n",
        "  \"\"\"\n",
        "  def __init__(self, encoder, decoder, src_embed, trg_embed, generator):\n",
        "    \"\"\"\n",
        "    Inputs:\n",
        "      - `encoder`: an `Encoder` object.\n",
        "      - `decoder`: an `Decoder` object.\n",
        "      - `src_embed`: an nn.Embedding object representing the lookup table for\n",
        "          input (source) sentences.\n",
        "      - `trg_embed`: an nn.Embedding object representing the lookup table for\n",
        "          output (target) sentences.\n",
        "      - `generator`: a `Generator` object. Essentially a linear mapping. See\n",
        "          the next code cell.\n",
        "    \"\"\"\n",
        "    super(EncoderDecoder, self).__init__()\n",
        "\n",
        "    self.encoder = encoder\n",
        "    self.decoder = decoder\n",
        "    self.src_embed = src_embed\n",
        "    self.trg_embed = trg_embed\n",
        "    self.generator = generator\n",
        "\n",
        "  def forward(self, src_ids, trg_ids, src_lengths):\n",
        "    \"\"\"Take in and process masked source and target sequences.\n",
        "\n",
        "    Inputs:\n",
        "      `src_ids`: a 2d-tensor of shape (batch_size, max_seq_length) representing\n",
        "        a batch of source sentences of word ids.\n",
        "      `trg_ids`: a 2d-tensor of shape (batch_size, max_seq_length) representing\n",
        "        a batch of target sentences of word ids.\n",
        "      `src_lengths`: a 1d-tensor of shape (batch_size,) representing the\n",
        "        sequence length of `src_ids`.\n",
        "\n",
        "    Returns the decoder outputs, see the above cell.\n",
        "    \"\"\"\n",
        "    encoder_hiddens, encoder_finals = self.encode(src_ids, src_lengths)\n",
        "    del encoder_hiddens   # unused\n",
        "    return self.decode(trg_ids[:, :-1], encoder_finals)\n",
        "\n",
        "  def encode(self, src_ids, src_lengths):\n",
        "    return self.encoder(self.src_embed(src_ids), src_lengths)\n",
        "    \n",
        "  def decode(self, trg_id_inputs, encoder_finals, encoder_hiddens=None, src_mask=None, trg_mask=None, decoder_hidden=None):\n",
        "    return self.decoder(self.trg_embed(trg_id_inputs), encoder_finals, decoder_hidden)"
      ],
      "execution_count": 0,
      "outputs": []
    },
    {
      "cell_type": "markdown",
      "metadata": {
        "id": "M06QOTbCALGy",
        "colab_type": "text"
      },
      "source": [
        "It simply projects the pre-output layer (x in the forward function below) to obtain the output layer, so that the final dimension is the target vocabulary size."
      ]
    },
    {
      "cell_type": "code",
      "metadata": {
        "id": "LaHdVcF1KPmd",
        "colab_type": "code",
        "colab": {}
      },
      "source": [
        "class Generator(nn.Module):\n",
        "  \"\"\"Define standard linear + softmax generation step.\"\"\"\n",
        "  def __init__(self, hidden_size, vocab_size):\n",
        "    super(Generator, self).__init__()\n",
        "    self.proj = nn.Linear(hidden_size, vocab_size, bias=False)\n",
        "\n",
        "  def forward(self, x):\n",
        "    return F.log_softmax(self.proj(x), dim=-1)"
      ],
      "execution_count": 0,
      "outputs": []
    },
    {
      "cell_type": "markdown",
      "metadata": {
        "id": "qf8Oc9a_ocC_",
        "colab_type": "text"
      },
      "source": [
        "## **Section 4: Attention-Based Decoder**\n",
        "\n",
        "Now it's time to add some attention to the decoder. You can implement any attention mechanism you want.\n"
      ]
    },
    {
      "cell_type": "code",
      "metadata": {
        "id": "X9reZZD_-xlK",
        "colab_type": "code",
        "colab": {}
      },
      "source": [
        "class GlobalAttention(nn.Module):\n",
        "  \"\"\"A global attention layer, as introduced by Luong et al. (2015)\"\"\"\n",
        "\n",
        "  def __init__(self, hidden_size):\n",
        "    \"\"\"\n",
        "    \"\"\"\n",
        "    super(GlobalAttention, self).__init__()\n",
        "\n",
        "    self.score_weights = nn.Parameter(torch.Tensor(hidden_size, hidden_size))\n",
        "    self.attn_softmax = nn.Softmax(dim=-1)\n",
        "    self.concat = nn.Linear(hidden_size * 2, hidden_size)\n",
        "    self.out = nn.Tanh()\n",
        "    self.reset_parameters()\n",
        "  \n",
        "  def reset_parameters(self):\n",
        "    \"\"\"Reset the score matrix weights\"\"\"\n",
        "    nn.init.kaiming_uniform_(self.score_weights, a=math.sqrt(5))  # same method for nn.Linear.weight init\n",
        "\n",
        "  def forward(self, encoder_outputs, decoder_outputs, src_mask=None, trg_mask=None):\n",
        "    \"\"\"Calculate attention weights and resulting attention hidden states\n",
        "    using the attention-weighted sum of encoder outputs and the decoder_output.\n",
        "    \n",
        "    Inputs:\n",
        "      - `encoder_outputs`: a 3d-tensor of shape\n",
        "          (batch_size, max_seq_length, hidden_size) representing the encoder\n",
        "          outputs for each encoding step.\n",
        "      - `decoder_outputs`: a 3d-tensor of shape\n",
        "          (batch_size, max_seq_length-1, hidden_size) representing the decoder\n",
        "          outputs for each decoding step. \n",
        "      - `src_mask`: a 3d-tensor of shape (batch_size, 1, max_seq_length)\n",
        "          representing the mask for source sentences. If None, assume that\n",
        "          all words in the source sentences are relevant (e.g. not padding).\n",
        "          Default: `None`\n",
        "      - `trg_mask`: a 3d-tensor of shape (batch_size, 1, max_seq_length-1)\n",
        "          representing the mask for target sentences. Unused. Default: `None`\n",
        "\n",
        "    Returns:\n",
        "      - `outputs`: a 3d-tensor of shape\n",
        "          (batch_size, max_seq_length, hidden_size) representing the raw outputs\n",
        "          of the attention layer (before converting to a `trg_vocab_size`-dim vector).\n",
        "    \"\"\"\n",
        "    max_len = decoder_outputs.size(1)\n",
        "    # shape (batch_size, max_seq_length, max_seq_length).\n",
        "    # dim=1 for each decoder output, dim=2 for each encoder output\n",
        "    scores = torch.bmm(decoder_outputs@self.score_weights, torch.transpose(encoder_outputs, 1, 2))\n",
        "    if src_mask is not None:\n",
        "      attn_mask = src_mask.expand(-1, max_len, -1)\n",
        "      scores = scores + torch.log(attn_mask)\n",
        "    attn_weights = self.attn_softmax(scores)\n",
        "    context = torch.bmm(attn_weights, encoder_outputs)  # shape (batch_size, max_seq_length, hidden_size)\n",
        "    attn_hidden = self.out(self.concat(torch.cat((decoder_outputs, context), dim=-1)))\n",
        "    return attn_hidden"
      ],
      "execution_count": 0,
      "outputs": []
    },
    {
      "cell_type": "code",
      "metadata": {
        "id": "iZq2NImAoY1C",
        "colab_type": "code",
        "colab": {}
      },
      "source": [
        "class AttentionDecoder(nn.Module):\n",
        "  \"\"\"An attention-based RNN decoder.\"\"\"\n",
        "\n",
        "  def __init__(self, input_size, hidden_size, attention=None, dropout=0.0, num_layers=1, num_enc_layers=None):\n",
        "    \"\"\"\n",
        "      Inputs:\n",
        "        - `input_size`, `hidden_size`, and `dropout` the same as in Encoder.\n",
        "        - `attention`: this is your self-defined Attention object. You can\n",
        "            either define an individual class for your Attention and pass it\n",
        "            here or leave `attention` as None and just implement everything\n",
        "            here.\n",
        "        - `num_enc_layers`: number of layers in the corresponding encoder.\n",
        "            When defined, creates a linear layer to pass the concatenation of\n",
        "            the encoder final hidden states `encoder_finals` to dim `hidden_size`\n",
        "            Equal to num_layers * num_directions in the encoder.\n",
        "            Default: `None`, in which case no linear layer is initialized and\n",
        "            number of encoder layers is assumed to be the same.\n",
        "    \"\"\"\n",
        "    super(AttentionDecoder, self).__init__()\n",
        "\n",
        "    ### Your code here!\n",
        "    self.input_size = input_size\n",
        "    self.hidden_size = hidden_size\n",
        "    self.attention = attention\n",
        "    self.dropout = dropout\n",
        "    self.num_layers = num_layers\n",
        "    self.num_enc_layers = num_enc_layers\n",
        "    if num_enc_layers is not None:\n",
        "      self.hidden_initializer = nn.Linear(num_enc_layers * hidden_size, num_layers * hidden_size)\n",
        "    else:\n",
        "      self.hidden_initializer = None\n",
        "\n",
        "    self.rnn = nn.GRU(input_size, hidden_size, num_layers=num_layers, batch_first=True,\n",
        "                      dropout=dropout, bidirectional=False)\n",
        "\n",
        "    \n",
        "  def forward(self, inputs, encoder_hiddens, encoder_finals, src_mask,\n",
        "              trg_mask, hidden=None, max_len=None):\n",
        "    \"\"\"Unroll the decoder one step at a time.\n",
        "    \n",
        "    Inputs:\n",
        "      - `inputs`: a 3d-tensor of shape (batch_size, max_seq_length-1, embed_size)\n",
        "          representing a batch of padded embedded word vectors of target\n",
        "          sentences (for teacher-forcing during training).\n",
        "      - `encoder_hiddens`: a 3d-tensor of shape\n",
        "          (batch_size, max_seq_length, hidden_size) representing the encoder\n",
        "          outputs for each decoding step to attend to. \n",
        "      - `encoder_finals`: a 3d-tensor of shape\n",
        "          (num_enc_layers, batch_size, hidden_size) representing the final\n",
        "          encoder hidden states used to initialize the initial decoder hidden\n",
        "          states.\n",
        "      - `src_mask`: a 3d-tensor of shape (batch_size, 1, max_seq_length)\n",
        "          representing the mask for source sentences.\n",
        "      - `trg_mask`: a 3d-tensor of shape (batch_size, 1, max_seq_length-1)\n",
        "          representing the mask for target sentences.\n",
        "      - `hidden`: a 3d-tensor of shape (1, batch_size, hidden_size) representing\n",
        "          the value to be used to initialize the initial decoder hidden states.\n",
        "          If None, then use `encoder_finals`.\n",
        "      - `max_len`: an int representing the maximum decoding length.\n",
        "\n",
        "    Returns:\n",
        "      - `outputs`: (same as in Decoder) a 3d-tensor of shape\n",
        "          (batch_size, max_seq_length, hidden_size) representing the raw\n",
        "          decoder outputs (before converting to a `trg_vocab_size`-dim vector).\n",
        "      - `hidden`: a 3d-tensor of shape (1, batch_size, hidden_size)\n",
        "          representing the last decoder hidden state.\n",
        "    \"\"\"\n",
        "    if self.num_enc_layers is not None:\n",
        "      assert encoder_finals.size(0) == self.num_enc_layers, \\\n",
        "        'Decoder expected {} layer, but encoder_finals has {} layers.'.format(self.num_enc_layers, encoder_finals.size(0))\n",
        "    else:\n",
        "      assert encoder_finals.size(0) == self.num_layers, \\\n",
        "        'Decoder expected same number of layers by default, but encoder_finals has {} layers.'.format(self.num_layers, encoder_finals.size(0))\n",
        "\n",
        "    # The maximum number of steps to unroll the RNN.\n",
        "    if max_len is None:\n",
        "      max_len = inputs.size(1)\n",
        "\n",
        "    if hidden is None:\n",
        "      hidden = self.init_hidden(encoder_finals)\n",
        "\n",
        "    outputs = None \n",
        "    ### Your code here!\n",
        "    decoder_hiddens, hidden = self.rnn(inputs, hidden)\n",
        "    if self.attention is not None:\n",
        "      outputs = self.attention(encoder_hiddens, decoder_hiddens, src_mask, trg_mask)\n",
        "    else:\n",
        "      outputs = decoder_hiddens\n",
        "\n",
        "    return hidden, outputs\n",
        "\n",
        "  def init_hidden(self, encoder_finals):\n",
        "    \"\"\"Use encoder final hidden state to initialize decoder's first hidden\n",
        "    state.\"\"\"\n",
        "    ### Your code here!\n",
        "    if self.hidden_initializer is None:\n",
        "      decoder_init_hiddens = encoder_finals\n",
        "    else:\n",
        "      finals_by_layer = tuple(encoder_finals)\n",
        "      finals_batch = torch.cat(finals_by_layer, dim=-1)  # shape: (batch_size, num_enc_layers * hidden_size)\n",
        "      out = self.hidden_initializer(finals_batch)  # shape: (batch_size, num_layers * hidden_size)\n",
        "      decoder_init_hiddens = torch.stack(torch.chunk(out, self.num_layers, dim=-1))\n",
        "\n",
        "    return decoder_init_hiddens"
      ],
      "execution_count": 0,
      "outputs": []
    },
    {
      "cell_type": "markdown",
      "metadata": {
        "id": "DTUXxJWPPQ9W",
        "colab_type": "text"
      },
      "source": [
        "Similarly, we use a `EncoderAttentionDecoder` class to wrap up all encoder, decoder, src/trg embeddings, and generator. You can take the `EncoderDecoder` class as a reference."
      ]
    },
    {
      "cell_type": "code",
      "metadata": {
        "id": "mghIa6XzubZL",
        "colab_type": "code",
        "colab": {}
      },
      "source": [
        "class EncoderAttentionDecoder(nn.Module):\n",
        "  \"\"\"A Encoder-Decoder architecture with attention.\n",
        "  \"\"\"\n",
        "  def __init__(self, encoder, decoder, src_embed , trg_embed, generator):\n",
        "    \"\"\"\n",
        "    Inputs:\n",
        "      - `encoder`: an `Encoder` object.\n",
        "      - `decoder`: an `AttentionDecoder` object.\n",
        "      - `src_embed`: an nn.Embedding object representing the lookup table for\n",
        "          input (source) sentences.\n",
        "      - `trg_embed`: an nn.Embedding object representing the lookup table for\n",
        "          output (target) sentences.\n",
        "      - `generator`: a `Generator` object. Essentially a linear mapping. See\n",
        "          the next code cell.\n",
        "    \"\"\"\n",
        "    super(EncoderAttentionDecoder, self).__init__()\n",
        "\n",
        "    self.encoder = encoder\n",
        "    self.decoder = decoder\n",
        "    self.src_embed = src_embed\n",
        "    self.trg_embed = trg_embed\n",
        "    self.generator = generator\n",
        "\n",
        "  def forward(self, src_ids, trg_ids, src_lengths):\n",
        "    \"\"\"Take in and process masked source and tar get sequences.\n",
        "\n",
        "    Inputs:\n",
        "      `src_ids`: a 2d-tensor of shape (batch_size, max_seq_length) representing\n",
        "        a batch of source sentences of word ids.\n",
        "      `trg_ids`: a 2d-tensor of shape (batch_size, max_seq_length) representing\n",
        "        a batch of target sentences of word ids.\n",
        "      `src_lengths`: a 1d-tensor of shape (batch_size,) representing the\n",
        "        sequence length of `src_ids`.\n",
        "\n",
        "    Returns the decoder outputs, see the above cell.\n",
        "    \"\"\"\n",
        "    ### Your code here!\n",
        "    # You can refer to `EncoderDecoder` and extend from it.\n",
        "    trg_id_inputs = trg_ids[:, :-1]  # skip last id b/c it won't be an input for a prediction\n",
        "    src_mask = torch.where(src_ids == PAD_INDEX, torch.zeros(src_ids.size()).to(device), torch.ones(src_ids.size()).to(device))\n",
        "    src_mask.unsqueeze_(1)\n",
        "    trg_mask = torch.where(trg_id_inputs == PAD_INDEX, torch.zeros(trg_id_inputs.size()).to(device), torch.ones(trg_id_inputs.size()).to(device))\n",
        "    trg_mask.unsqueeze_(1)\n",
        "    encoder_hiddens, encoder_finals = self.encode(src_ids, src_lengths)\n",
        "    return self.decode(trg_id_inputs, encoder_finals, encoder_hiddens, src_mask, trg_mask)\n",
        "\n",
        "  def encode(self, src_ids, src_lengths):\n",
        "    return self.encoder(self.src_embed(src_ids), src_lengths)\n",
        "    \n",
        "  def decode(self, trg_id_inputs, encoder_finals, encoder_hiddens, src_mask=None, trg_mask=None, decoder_hidden=None):\n",
        "    return self.decoder(self.trg_embed(trg_id_inputs), encoder_hiddens, encoder_finals, src_mask, trg_mask, hidden=decoder_hidden)"
      ],
      "execution_count": 0,
      "outputs": []
    },
    {
      "cell_type": "markdown",
      "metadata": {
        "id": "9VIpNlKtK8l_",
        "colab_type": "text"
      },
      "source": [
        "## **Section 5: Training and Testing**\n",
        "\n",
        "We provide training and testing scripts here. You might need to adapt them to fit your model implementation."
      ]
    },
    {
      "cell_type": "markdown",
      "metadata": {
        "id": "I38IFq48BKa5",
        "colab_type": "text"
      },
      "source": [
        "Apply the dataloader to the MT dataset. Dataloader provides a convenient way to iterate through the whole dataset."
      ]
    },
    {
      "cell_type": "code",
      "metadata": {
        "id": "cJrXO7nCjzBP",
        "colab_type": "code",
        "colab": {}
      },
      "source": [
        "batch_size = 128\n",
        "\n",
        "# You can try on a smaller training set by setting a smaller `sampling`.\n",
        "train_set = MTDataset(train_src_sentences_list, src_vocab_set,\n",
        "                      train_trg_sentences_list, trg_vocab_set, sampling=1.)\n",
        "train_data_loader = data.DataLoader(train_set, batch_size=batch_size,\n",
        "                                    num_workers=8, shuffle=True)\n",
        "\n",
        "val_set = MTDataset(val_src_sentences_list, src_vocab_set,\n",
        "                    val_trg_sentences_list, trg_vocab_set, sampling=1.)\n",
        "val_data_loader = data.DataLoader(val_set, batch_size=batch_size, num_workers=8,\n",
        "                                  shuffle=False)"
      ],
      "execution_count": 0,
      "outputs": []
    },
    {
      "cell_type": "markdown",
      "metadata": {
        "id": "bWaiu7wNBX7x",
        "colab_type": "text"
      },
      "source": [
        "The main functions for training, here we use perplexity to evaluate the performance of the model. Although we provide the training scripts here, we strongly encourage you to go through and understand the procedure."
      ]
    },
    {
      "cell_type": "code",
      "metadata": {
        "id": "AXGa-L1qp13q",
        "colab_type": "code",
        "colab": {}
      },
      "source": [
        "import math\n",
        "\n",
        "\n",
        "class SimpleLossCompute:\n",
        "  \"\"\"A simple loss compute and train function.\"\"\"\n",
        "\n",
        "  def __init__(self, generator, criterion, opt=None):\n",
        "    self.generator = generator\n",
        "    self.criterion = criterion\n",
        "    self.opt = opt\n",
        "\n",
        "  def __call__(self, x, y, norm):\n",
        "    x = self.generator(x)\n",
        "    loss = self.criterion(x.contiguous().view(-1, x.size(-1)),\n",
        "                          y.contiguous().view(-1))\n",
        "    loss = loss / norm\n",
        "\n",
        "    if self.opt is not None:  # training mode\n",
        "      loss.backward()          \n",
        "      self.opt.step()\n",
        "      self.opt.zero_grad()\n",
        "\n",
        "    return loss.data.item() * norm\n",
        "\n",
        "\n",
        "def run_epoch(data_loader, model, loss_compute, print_every):\n",
        "  \"\"\"Standard Training and Logging Function\"\"\"\n",
        "\n",
        "  total_tokens = 0\n",
        "  total_loss = 0\n",
        "\n",
        "  for i, (src_ids_BxT, src_lengths_B, trg_ids_BxL, trg_lengths_B) in enumerate(data_loader):\n",
        "    # We define some notations here to help you understand the loaded tensor\n",
        "    # shapes:\n",
        "    #   `B`: batch size\n",
        "    #   `T`: max sequence length of source sentences\n",
        "    #   `L`: max sequence length of target sentences; due to our preprocessing\n",
        "    #        in the beginning, `L` == `T` == 50\n",
        "    # An example of `src_ids_BxT` (when B = 2):\n",
        "    #   [[2, 4, 6, 7, ..., 4, 3, 0, 0, 0],\n",
        "    #    [2, 8, 6, 5, ..., 9, 5, 4, 3, 0]]\n",
        "    # The corresponding `src_lengths_B` would be [47, 49].\n",
        "    # Note that SOS_INDEX == 2, EOS_INDEX == 3, and PAD_INDEX = 0.\n",
        "\n",
        "    src_ids_BxT = src_ids_BxT.to(device)\n",
        "    src_lengths_B = src_lengths_B.to(device)\n",
        "    trg_ids_BxL = trg_ids_BxL.to(device)\n",
        "    del trg_lengths_B   # unused\n",
        "\n",
        "    _, output = model(src_ids_BxT, trg_ids_BxL, src_lengths_B)\n",
        "\n",
        "    loss = loss_compute(x=output, y=trg_ids_BxL[:, 1:],\n",
        "                        norm=src_ids_BxT.size(0))\n",
        "    total_loss += loss\n",
        "    total_tokens += (trg_ids_BxL[:, 1:] != PAD_INDEX).data.sum().item()\n",
        "\n",
        "    if model.training and i % print_every == 0:\n",
        "      print(\"Epoch Step: %d Loss: %f\" % (i, loss / src_ids_BxT.size(0)))\n",
        "\n",
        "  return math.exp(total_loss / float(total_tokens))\n",
        "\n",
        "\n",
        "def train(model, num_epochs, learning_rate, print_every):\n",
        "  # Set `ignore_index` as PAD_INDEX so that pad tokens won't be included when\n",
        "  # computing the loss.\n",
        "  criterion = nn.NLLLoss(reduction=\"sum\", ignore_index=PAD_INDEX)\n",
        "  optim = torch.optim.Adam(model.parameters(), lr=learning_rate)\n",
        "\n",
        "  # Keep track of dev ppl for each epoch.\n",
        "  dev_ppls = []\n",
        "\n",
        "  for epoch in range(num_epochs):\n",
        "    print(\"Epoch\", epoch)\n",
        "\n",
        "    model.train()\n",
        "    train_ppl = run_epoch(data_loader=train_data_loader, model=model,\n",
        "                          loss_compute=SimpleLossCompute(model.generator,\n",
        "                                                         criterion, optim),\n",
        "                          print_every=print_every)\n",
        "        \n",
        "    model.eval()\n",
        "    with torch.no_grad():      \n",
        "      dev_ppl = run_epoch(data_loader=val_data_loader, model=model,\n",
        "                          loss_compute=SimpleLossCompute(model.generator,\n",
        "                                                         criterion, None),\n",
        "                          print_every=print_every)\n",
        "      print(\"Validation perplexity: %f\" % dev_ppl)\n",
        "      dev_ppls.append(dev_ppl)\n",
        "        \n",
        "  return dev_ppls"
      ],
      "execution_count": 0,
      "outputs": []
    },
    {
      "cell_type": "markdown",
      "metadata": {
        "id": "1A8VvkcICT60",
        "colab_type": "text"
      },
      "source": [
        "The main function to perform training. First let's train the vanilla seq2seq model."
      ]
    },
    {
      "cell_type": "code",
      "metadata": {
        "id": "03_J2vRnCXE4",
        "colab_type": "code",
        "colab": {}
      },
      "source": [
        "# Hyperparameters for constructing the encoder-decoder model.\n",
        "\n",
        "embed_size = 256   # Each word will be represented as a `embed_size`-dim vector.\n",
        "hidden_size = 256  # RNN hidden size.\n",
        "dropout = 0.2"
      ],
      "execution_count": 0,
      "outputs": []
    },
    {
      "cell_type": "code",
      "metadata": {
        "id": "pZ0t1hXAIHtO",
        "colab_type": "code",
        "outputId": "5183d0a9-9723-4714-b32d-3c5372daf085",
        "colab": {
          "base_uri": "https://localhost:8080/",
          "height": 1000
        }
      },
      "source": [
        "pure_seq2seq = EncoderDecoder(\n",
        "  encoder=Encoder(embed_size, hidden_size, dropout=dropout),\n",
        "  decoder=Decoder(embed_size, hidden_size, dropout=dropout),\n",
        "  src_embed=nn.Embedding(len(src_vocab_set), embed_size),\n",
        "  trg_embed=nn.Embedding(len(trg_vocab_set), embed_size),\n",
        "  generator=Generator(hidden_size, len(trg_vocab_set))).to(device)\n",
        "\n",
        "# Start training. The returned `dev_ppls` is a list of dev perplexity for each\n",
        "# epoch.\n",
        "pure_dev_ppls = train(pure_seq2seq, num_epochs=10, learning_rate=1e-3,\n",
        "                      print_every=100)"
      ],
      "execution_count": 0,
      "outputs": [
        {
          "output_type": "stream",
          "text": [
            "/usr/local/lib/python3.6/dist-packages/torch/nn/modules/rnn.py:50: UserWarning: dropout option adds dropout after all but last recurrent layer, so non-zero dropout expects num_layers greater than 1, but got dropout=0.2 and num_layers=1\n",
            "  \"num_layers={}\".format(dropout, num_layers))\n"
          ],
          "name": "stderr"
        },
        {
          "output_type": "stream",
          "text": [
            "Epoch 0\n",
            "Epoch Step: 0 Loss: 180.633118\n",
            "Epoch Step: 100 Loss: 101.318810\n",
            "Epoch Step: 200 Loss: 89.718628\n",
            "Epoch Step: 300 Loss: 89.796783\n",
            "Epoch Step: 400 Loss: 84.137215\n",
            "Epoch Step: 500 Loss: 82.346848\n",
            "Epoch Step: 600 Loss: 82.064011\n",
            "Epoch Step: 700 Loss: 78.606743\n",
            "Epoch Step: 800 Loss: 73.170242\n",
            "Validation perplexity: 71.565741\n",
            "Epoch 1\n",
            "Epoch Step: 0 Loss: 70.690102\n",
            "Epoch Step: 100 Loss: 71.882896\n",
            "Epoch Step: 200 Loss: 65.996017\n",
            "Epoch Step: 300 Loss: 74.677277\n",
            "Epoch Step: 400 Loss: 70.145180\n",
            "Epoch Step: 500 Loss: 70.731873\n",
            "Epoch Step: 600 Loss: 61.844410\n",
            "Epoch Step: 700 Loss: 73.761009\n",
            "Epoch Step: 800 Loss: 72.441727\n",
            "Validation perplexity: 52.571025\n",
            "Epoch 2\n",
            "Epoch Step: 0 Loss: 71.767685\n",
            "Epoch Step: 100 Loss: 61.507153\n",
            "Epoch Step: 200 Loss: 69.426308\n",
            "Epoch Step: 300 Loss: 63.468651\n",
            "Epoch Step: 400 Loss: 67.633392\n",
            "Epoch Step: 500 Loss: 68.163879\n",
            "Epoch Step: 600 Loss: 69.368004\n",
            "Epoch Step: 700 Loss: 72.594017\n",
            "Epoch Step: 800 Loss: 60.646427\n",
            "Validation perplexity: 45.712289\n",
            "Epoch 3\n",
            "Epoch Step: 0 Loss: 63.422913\n",
            "Epoch Step: 100 Loss: 61.546204\n",
            "Epoch Step: 200 Loss: 61.686073\n",
            "Epoch Step: 300 Loss: 60.562504\n",
            "Epoch Step: 400 Loss: 62.624077\n",
            "Epoch Step: 500 Loss: 65.982780\n",
            "Epoch Step: 600 Loss: 64.206978\n",
            "Epoch Step: 700 Loss: 63.498661\n",
            "Epoch Step: 800 Loss: 61.624420\n",
            "Validation perplexity: 42.563565\n",
            "Epoch 4\n",
            "Epoch Step: 0 Loss: 56.215462\n",
            "Epoch Step: 100 Loss: 57.366138\n",
            "Epoch Step: 200 Loss: 64.786446\n",
            "Epoch Step: 300 Loss: 57.875740\n",
            "Epoch Step: 400 Loss: 52.595833\n",
            "Epoch Step: 500 Loss: 62.421452\n",
            "Epoch Step: 600 Loss: 60.782154\n",
            "Epoch Step: 700 Loss: 54.303741\n",
            "Epoch Step: 800 Loss: 55.162956\n",
            "Validation perplexity: 40.898937\n",
            "Epoch 5\n",
            "Epoch Step: 0 Loss: 55.570705\n",
            "Epoch Step: 100 Loss: 54.430317\n",
            "Epoch Step: 200 Loss: 60.046745\n",
            "Epoch Step: 300 Loss: 56.597809\n",
            "Epoch Step: 400 Loss: 63.134739\n",
            "Epoch Step: 500 Loss: 53.366535\n",
            "Epoch Step: 600 Loss: 53.062328\n",
            "Epoch Step: 700 Loss: 64.596329\n",
            "Epoch Step: 800 Loss: 52.773830\n",
            "Validation perplexity: 40.180999\n",
            "Epoch 6\n",
            "Epoch Step: 0 Loss: 48.504921\n",
            "Epoch Step: 100 Loss: 51.596447\n",
            "Epoch Step: 200 Loss: 53.161747\n",
            "Epoch Step: 300 Loss: 55.513275\n",
            "Epoch Step: 400 Loss: 55.887405\n",
            "Epoch Step: 500 Loss: 54.406578\n",
            "Epoch Step: 600 Loss: 53.540848\n",
            "Epoch Step: 700 Loss: 50.793667\n",
            "Epoch Step: 800 Loss: 51.251999\n",
            "Validation perplexity: 40.093081\n",
            "Epoch 7\n",
            "Epoch Step: 0 Loss: 53.987984\n",
            "Epoch Step: 100 Loss: 49.185349\n",
            "Epoch Step: 200 Loss: 47.281414\n",
            "Epoch Step: 300 Loss: 55.687019\n",
            "Epoch Step: 400 Loss: 47.568256\n",
            "Epoch Step: 500 Loss: 57.264889\n",
            "Epoch Step: 600 Loss: 48.946930\n",
            "Epoch Step: 700 Loss: 51.297493\n",
            "Epoch Step: 800 Loss: 55.053127\n",
            "Validation perplexity: 40.345104\n",
            "Epoch 8\n",
            "Epoch Step: 0 Loss: 48.389885\n",
            "Epoch Step: 100 Loss: 47.893730\n",
            "Epoch Step: 200 Loss: 49.985355\n",
            "Epoch Step: 300 Loss: 47.184898\n",
            "Epoch Step: 400 Loss: 51.464222\n",
            "Epoch Step: 500 Loss: 52.233479\n",
            "Epoch Step: 600 Loss: 55.290817\n",
            "Epoch Step: 700 Loss: 50.430946\n",
            "Epoch Step: 800 Loss: 53.132641\n",
            "Validation perplexity: 41.121290\n",
            "Epoch 9\n",
            "Epoch Step: 0 Loss: 41.018993\n",
            "Epoch Step: 100 Loss: 46.950047\n",
            "Epoch Step: 200 Loss: 48.563366\n",
            "Epoch Step: 300 Loss: 54.644745\n",
            "Epoch Step: 400 Loss: 43.598812\n",
            "Epoch Step: 500 Loss: 44.373650\n",
            "Epoch Step: 600 Loss: 47.747013\n",
            "Epoch Step: 700 Loss: 44.892754\n",
            "Epoch Step: 800 Loss: 44.577843\n",
            "Validation perplexity: 41.971095\n"
          ],
          "name": "stdout"
        }
      ]
    },
    {
      "cell_type": "markdown",
      "metadata": {
        "id": "fRsfDg0wCa7U",
        "colab_type": "text"
      },
      "source": [
        "Plot the perplexity graph."
      ]
    },
    {
      "cell_type": "code",
      "metadata": {
        "id": "CTApnlT53YvT",
        "colab_type": "code",
        "outputId": "d36a420a-7ad8-48f6-a939-dc8523e3eb25",
        "colab": {
          "base_uri": "https://localhost:8080/",
          "height": 295
        }
      },
      "source": [
        "def plot_perplexity(perplexities):\n",
        "  \"\"\"plot perplexities\"\"\"\n",
        "  plt.title(\"Perplexity per Epoch\")\n",
        "  plt.xlabel(\"Epoch\")\n",
        "  plt.ylabel(\"Perplexity\")\n",
        "  plt.plot(perplexities)\n",
        "\n",
        "plot_perplexity(pure_dev_ppls)"
      ],
      "execution_count": 0,
      "outputs": [
        {
          "output_type": "display_data",
          "data": {
            "image/png": "[encoded data removed]",
            "text/plain": [
              "<Figure size 432x288 with 1 Axes>"
            ]
          },
          "metadata": {
            "tags": []
          }
        }
      ]
    },
    {
      "cell_type": "markdown",
      "metadata": {
        "id": "PjhKXDyvIk4l",
        "colab_type": "text"
      },
      "source": [
        "Now, let's train the seq2seq model with attention."
      ]
    },
    {
      "cell_type": "code",
      "metadata": {
        "id": "onQxDU-aGa0t",
        "colab_type": "code",
        "outputId": "f66f9c6a-8283-4c6f-de8b-d7aa0506c92a",
        "colab": {
          "base_uri": "https://localhost:8080/",
          "height": 1000
        }
      },
      "source": [
        "attn_seq2seq = EncoderAttentionDecoder(\n",
        "  encoder=Encoder(embed_size, hidden_size, dropout=dropout),\n",
        "  decoder=AttentionDecoder(embed_size, hidden_size,\n",
        "                  attention=GlobalAttention(hidden_size), dropout=dropout),\n",
        "  src_embed=nn.Embedding(len(src_vocab_set), embed_size),\n",
        "  trg_embed=nn.Embedding(len(trg_vocab_set), embed_size),\n",
        "  generator=Generator(hidden_size, len(trg_vocab_set))).to(device)\n",
        "\n",
        "attn_dev_ppls = train(attn_seq2seq, num_epochs=10, learning_rate=1e-3,\n",
        "                      print_every=100)\n",
        "\n",
        "plot_perplexity(attn_dev_ppls)"
      ],
      "execution_count": 0,
      "outputs": [
        {
          "output_type": "stream",
          "text": [
            "Epoch 0\n"
          ],
          "name": "stdout"
        },
        {
          "output_type": "stream",
          "text": [
            "/usr/local/lib/python3.6/dist-packages/torch/nn/modules/rnn.py:50: UserWarning: dropout option adds dropout after all but last recurrent layer, so non-zero dropout expects num_layers greater than 1, but got dropout=0.2 and num_layers=1\n",
            "  \"num_layers={}\".format(dropout, num_layers))\n"
          ],
          "name": "stderr"
        },
        {
          "output_type": "stream",
          "text": [
            "Epoch Step: 0 Loss: 189.785309\n",
            "Epoch Step: 100 Loss: 98.854095\n",
            "Epoch Step: 200 Loss: 93.748451\n",
            "Epoch Step: 300 Loss: 101.221603\n",
            "Epoch Step: 400 Loss: 82.597069\n",
            "Epoch Step: 500 Loss: 81.971451\n",
            "Epoch Step: 600 Loss: 78.224091\n",
            "Epoch Step: 700 Loss: 73.723450\n",
            "Epoch Step: 800 Loss: 66.977295\n",
            "Validation perplexity: 54.953826\n",
            "Epoch 1\n",
            "Epoch Step: 0 Loss: 68.943909\n",
            "Epoch Step: 100 Loss: 76.346100\n",
            "Epoch Step: 200 Loss: 66.115692\n",
            "Epoch Step: 300 Loss: 69.452316\n",
            "Epoch Step: 400 Loss: 68.290710\n",
            "Epoch Step: 500 Loss: 53.402336\n",
            "Epoch Step: 600 Loss: 66.281624\n",
            "Epoch Step: 700 Loss: 65.393776\n",
            "Epoch Step: 800 Loss: 61.161064\n",
            "Validation perplexity: 32.057452\n",
            "Epoch 2\n",
            "Epoch Step: 0 Loss: 60.615322\n",
            "Epoch Step: 100 Loss: 60.718708\n",
            "Epoch Step: 200 Loss: 58.456387\n",
            "Epoch Step: 300 Loss: 56.053986\n",
            "Epoch Step: 400 Loss: 56.529404\n",
            "Epoch Step: 500 Loss: 57.057533\n",
            "Epoch Step: 600 Loss: 58.358150\n",
            "Epoch Step: 700 Loss: 53.236725\n",
            "Epoch Step: 800 Loss: 58.846054\n",
            "Validation perplexity: 24.499265\n",
            "Epoch 3\n",
            "Epoch Step: 0 Loss: 54.113281\n",
            "Epoch Step: 100 Loss: 48.867916\n",
            "Epoch Step: 200 Loss: 52.079895\n",
            "Epoch Step: 300 Loss: 53.885483\n",
            "Epoch Step: 400 Loss: 48.109226\n",
            "Epoch Step: 500 Loss: 53.201221\n",
            "Epoch Step: 600 Loss: 50.264198\n",
            "Epoch Step: 700 Loss: 53.768120\n",
            "Epoch Step: 800 Loss: 48.520626\n",
            "Validation perplexity: 21.180149\n",
            "Epoch 4\n",
            "Epoch Step: 0 Loss: 44.991894\n",
            "Epoch Step: 100 Loss: 44.620190\n",
            "Epoch Step: 200 Loss: 46.411469\n",
            "Epoch Step: 300 Loss: 48.106785\n",
            "Epoch Step: 400 Loss: 51.304707\n",
            "Epoch Step: 500 Loss: 47.382576\n",
            "Epoch Step: 600 Loss: 50.152821\n",
            "Epoch Step: 700 Loss: 47.297447\n",
            "Epoch Step: 800 Loss: 48.895927\n",
            "Validation perplexity: 19.386287\n",
            "Epoch 5\n",
            "Epoch Step: 0 Loss: 44.388580\n",
            "Epoch Step: 100 Loss: 43.173389\n",
            "Epoch Step: 200 Loss: 38.921841\n",
            "Epoch Step: 300 Loss: 46.252361\n",
            "Epoch Step: 400 Loss: 41.548759\n",
            "Epoch Step: 500 Loss: 45.348408\n",
            "Epoch Step: 600 Loss: 51.669090\n",
            "Epoch Step: 700 Loss: 49.087471\n",
            "Epoch Step: 800 Loss: 38.243607\n",
            "Validation perplexity: 18.638537\n",
            "Epoch 6\n",
            "Epoch Step: 0 Loss: 42.013371\n",
            "Epoch Step: 100 Loss: 42.229362\n",
            "Epoch Step: 200 Loss: 39.826702\n",
            "Epoch Step: 300 Loss: 40.224667\n",
            "Epoch Step: 400 Loss: 37.466419\n",
            "Epoch Step: 500 Loss: 43.595734\n",
            "Epoch Step: 600 Loss: 40.155891\n",
            "Epoch Step: 700 Loss: 37.043289\n",
            "Epoch Step: 800 Loss: 40.752186\n",
            "Validation perplexity: 18.003459\n",
            "Epoch 7\n",
            "Epoch Step: 0 Loss: 39.375031\n",
            "Epoch Step: 100 Loss: 38.774548\n",
            "Epoch Step: 200 Loss: 33.038891\n",
            "Epoch Step: 300 Loss: 39.094501\n",
            "Epoch Step: 400 Loss: 45.765572\n",
            "Epoch Step: 500 Loss: 38.387550\n",
            "Epoch Step: 600 Loss: 37.737862\n",
            "Epoch Step: 700 Loss: 39.508648\n",
            "Epoch Step: 800 Loss: 42.848141\n",
            "Validation perplexity: 17.887577\n",
            "Epoch 8\n",
            "Epoch Step: 0 Loss: 40.197399\n",
            "Epoch Step: 100 Loss: 35.573639\n",
            "Epoch Step: 200 Loss: 38.930840\n",
            "Epoch Step: 300 Loss: 40.791447\n",
            "Epoch Step: 400 Loss: 38.996529\n",
            "Epoch Step: 500 Loss: 39.604721\n",
            "Epoch Step: 600 Loss: 34.726109\n",
            "Epoch Step: 700 Loss: 39.164337\n",
            "Epoch Step: 800 Loss: 38.615520\n",
            "Validation perplexity: 17.865742\n",
            "Epoch 9\n",
            "Epoch Step: 0 Loss: 32.348057\n",
            "Epoch Step: 100 Loss: 36.973858\n",
            "Epoch Step: 200 Loss: 34.949593\n",
            "Epoch Step: 300 Loss: 39.016918\n",
            "Epoch Step: 400 Loss: 32.437199\n",
            "Epoch Step: 500 Loss: 34.945236\n",
            "Epoch Step: 600 Loss: 38.693138\n",
            "Epoch Step: 700 Loss: 36.923573\n",
            "Epoch Step: 800 Loss: 40.154560\n",
            "Validation perplexity: 17.995239\n"
          ],
          "name": "stdout"
        },
        {
          "output_type": "display_data",
          "data": {
            "image/png": "[encoded data removed]",
            "text/plain": [
              "<Figure size 432x288 with 1 Axes>"
            ]
          },
          "metadata": {
            "tags": []
          }
        }
      ]
    },
    {
      "cell_type": "markdown",
      "metadata": {
        "id": "VMpL-_MwJOws",
        "colab_type": "text"
      },
      "source": [
        "This is the function used to decode the model output. For simplicity, we use greedy search here."
      ]
    },
    {
      "cell_type": "code",
      "metadata": {
        "id": "M1HTqYwy6-yL",
        "colab_type": "code",
        "colab": {}
      },
      "source": [
        "# Note: you might have to modify this `greedy_decode` function to work with your\n",
        "# `EncoderAttentionDecoder`.\n",
        "\n",
        "def greedy_decode(model, src_ids, src_lengths, max_len):\n",
        "  \"\"\"Greedily decode a sentence for EncoderDecoder.\"\"\"\n",
        "\n",
        "  with torch.no_grad():\n",
        "    encoder_hiddens, encoder_finals = model.encode(src_ids, src_lengths)\n",
        "    prev_y = torch.ones(1, 1).fill_(SOS_INDEX).type_as(src_ids)\n",
        "\n",
        "  output = []\n",
        "  hidden = None\n",
        "  src_mask = torch.where(src_ids == PAD_INDEX, torch.zeros(src_ids.size()).to(device), torch.ones(src_ids.size()).to(device))\n",
        "  src_mask.unsqueeze_(1)\n",
        "\n",
        "  for i in range(max_len):\n",
        "    with torch.no_grad():\n",
        "      hidden, outputs = model.decode(prev_y, encoder_finals, encoder_hiddens, src_mask=src_mask, decoder_hidden=hidden)\n",
        "      prob = model.generator(outputs[:, -1])\n",
        "\n",
        "    _, next_word = torch.max(prob, dim=1)\n",
        "    next_word = next_word.data.item()\n",
        "    output.append(next_word)\n",
        "    prev_y = torch.ones(1, 1).type_as(src_ids).fill_(next_word)\n",
        "\n",
        "  output = np.array(output)\n",
        "\n",
        "  # Cut off everything starting from </s>.\n",
        "  first_eos = np.where(output == EOS_INDEX)[0]\n",
        "  if len(first_eos) > 0:\n",
        "    output = output[:first_eos[0]]\n",
        "  return output\n",
        "  \n",
        "\n",
        "def lookup_words(x, vocab):\n",
        "  return [vocab[i] for i in x]"
      ],
      "execution_count": 0,
      "outputs": []
    },
    {
      "cell_type": "markdown",
      "metadata": {
        "id": "d_5go3VxJZKh",
        "colab_type": "text"
      },
      "source": [
        "Print the top 3 examples from the data loader by applying the greedy decoder."
      ]
    },
    {
      "cell_type": "code",
      "metadata": {
        "id": "cc3m4optFrb3",
        "colab_type": "code",
        "colab": {}
      },
      "source": [
        "def print_examples(model, data_loader, n=3,\n",
        "                   max_len=MAX_SENT_LENGTH_PLUS_SOS_EOS, \n",
        "                   src_vocab_set=src_vocab_set, trg_vocab_set=trg_vocab_set):\n",
        "  \"\"\"Prints `n` examples. Assumes batch size of 1.\"\"\"\n",
        "\n",
        "  model.eval()\n",
        "\n",
        "  for i, (src_ids, src_lengths, trg_ids, _) in enumerate(data_loader):\n",
        "    result = greedy_decode(model, src_ids.to(device), src_lengths.to(device),\n",
        "                           max_len=max_len)\n",
        "\n",
        "    # remove <s>\n",
        "    src_ids = src_ids[0, 1:]\n",
        "    trg_ids = trg_ids[0, 1:]\n",
        "    # remove </s> and <pad>\n",
        "    src_ids = src_ids[:np.where(src_ids == EOS_INDEX)[0][0]]\n",
        "    trg_ids = trg_ids[:np.where(trg_ids == EOS_INDEX)[0][0]]\n",
        "\n",
        "    print(\"Example #%d\" % (i + 1))\n",
        "    print(\"Src : \", \" \".join(lookup_words(src_ids, vocab=src_vocab_set)))\n",
        "    print(\"Trg : \", \" \".join(lookup_words(trg_ids, vocab=trg_vocab_set)))\n",
        "    print(\"Pred: \", \" \".join(lookup_words(result, vocab=trg_vocab_set)))\n",
        "    print()\n",
        "\n",
        "    if i == n - 1:\n",
        "      break"
      ],
      "execution_count": 0,
      "outputs": []
    },
    {
      "cell_type": "markdown",
      "metadata": {
        "id": "l7Hi4X0GJouK",
        "colab_type": "text"
      },
      "source": [
        "Here we use the validation dataset to print examples."
      ]
    },
    {
      "cell_type": "code",
      "metadata": {
        "id": "27thJIfreCgB",
        "colab_type": "code",
        "outputId": "c7d4346e-f9fe-44dc-a84e-72e525e56e21",
        "colab": {
          "base_uri": "https://localhost:8080/",
          "height": 277
        }
      },
      "source": [
        "example_set = MTDataset(val_src_sentences_list, src_vocab_set,\n",
        "                        val_trg_sentences_list, trg_vocab_set)\n",
        "example_data_loader = data.DataLoader(val_set, batch_size=1, num_workers=1,\n",
        "                                      shuffle=False)\n",
        "\n",
        "print_examples(pure_seq2seq, example_data_loader)"
      ],
      "execution_count": 0,
      "outputs": [
        {
          "output_type": "stream",
          "text": [
            "Example #1\n",
            "Src :  Khoa học đằng sau một tiêu đề về khí hậu\n",
            "Trg :  Rachel <unk> : The science behind a climate headline\n",
            "Pred:  The <unk> of the Higgs boson is a bit .\n",
            "\n",
            "Example #2\n",
            "Src :  Tôi muốn cho các bạn biết về sự to lớn của những nỗ lực khoa học đã góp phần làm nên các dòng tít bạn thường thấy trên báo .\n",
            "Trg :  I &apos;d like to talk to you today about the scale of the scientific effort that goes into making the headlines you see in the paper .\n",
            "Pred:  I want to show you what the most exciting thing about the most important lesson in the world is to look at the <unk> of the University of the history .\n",
            "\n",
            "Example #3\n",
            "Src :  Có những dòng trông như thế này khi bàn về biến đổi khí hậu , và như thế này khi nói về chất lượng không khí hay khói bụi .\n",
            "Trg :  <unk> that look like this when they have to do with climate change , and headlines that look like this when they have to do with air quality or smog .\n",
            "Pred:  There &apos;s a lot of anger , like this , the <unk> , the <unk> , or the <unk> , the <unk> , the <unk> .\n",
            "\n"
          ],
          "name": "stdout"
        }
      ]
    },
    {
      "cell_type": "markdown",
      "metadata": {
        "id": "H5pTV5PqJtX4",
        "colab_type": "text"
      },
      "source": [
        "Compute the BLEU score. BLEU score is a standard measure to evaluate the translation results. For further details, you can refer to [this](https://en.wikipedia.org/wiki/BLEU) link."
      ]
    },
    {
      "cell_type": "code",
      "metadata": {
        "id": "6XGQYwHRPyne",
        "colab_type": "code",
        "outputId": "af74ecf0-3a02-4318-95bb-55895fb0fd8f",
        "colab": {
          "base_uri": "https://localhost:8080/",
          "height": 86
        }
      },
      "source": [
        "import sacrebleu\n",
        "from tqdm import tqdm\n",
        "\n",
        "\n",
        "def compute_BLEU(model, data_loader):\n",
        "  bleu_score = []\n",
        "\n",
        "  model.eval()\n",
        "  for src_ids, src_lengths, trg_ids, _ in tqdm(data_loader):\n",
        "    result = greedy_decode(model, src_ids.to(device), src_lengths.to(device),\n",
        "                           max_len=MAX_SENT_LENGTH_PLUS_SOS_EOS)\n",
        "    # remove <s>\n",
        "    src_ids = src_ids[0, 1:]\n",
        "    trg_ids = trg_ids[0, 1:]\n",
        "    # remove </s> and <pad>\n",
        "    src_ids = src_ids[:np.where(src_ids == EOS_INDEX)[0][0]]\n",
        "    trg_ids = trg_ids[:np.where(trg_ids == EOS_INDEX)[0][0]]\n",
        "\n",
        "    pred = \" \".join(lookup_words(result, vocab=trg_vocab_set))\n",
        "    targ = \" \".join(lookup_words(trg_ids, vocab=trg_vocab_set))\n",
        "\n",
        "    bleu_score.append(sacrebleu.raw_corpus_bleu([pred], [[targ]], .01).score)\n",
        "\n",
        "  return bleu_score\n",
        "\n",
        "\n",
        "test_set = MTDataset(test_src_sentences_list, src_vocab_set,\n",
        "                     test_trg_sentences_list, trg_vocab_set, sampling=1.)\n",
        "test_data_loader = data.DataLoader(test_set, batch_size=1, num_workers=8,\n",
        "                                   shuffle=False)\n",
        "\n",
        "print('BLEU score:', np.mean(compute_BLEU(pure_seq2seq, test_data_loader)))\n",
        "print('BLEU score:', np.mean(compute_BLEU(attn_seq2seq, test_data_loader)))"
      ],
      "execution_count": 0,
      "outputs": [
        {
          "output_type": "stream",
          "text": [
            "100%|██████████| 1139/1139 [00:51<00:00, 22.27it/s]\n",
            "  0%|          | 0/1139 [00:00<?, ?it/s]"
          ],
          "name": "stderr"
        },
        {
          "output_type": "stream",
          "text": [
            "BLEU score:  5.699264199362628\n"
          ],
          "name": "stdout"
        },
        {
          "output_type": "stream",
          "text": [
            "100%|██████████| 1139/1139 [01:16<00:00, 14.90it/s]"
          ],
          "name": "stderr"
        },
        {
          "output_type": "stream",
          "text": [
            "BLEU score:  14.089084256464574\n"
          ],
          "name": "stdout"
        },
        {
          "output_type": "stream",
          "text": [
            "\n"
          ],
          "name": "stderr"
        }
      ]
    },
    {
      "cell_type": "markdown",
      "metadata": {
        "id": "GbOgwJw_CkCW",
        "colab_type": "text"
      },
      "source": [
        "## **Part 3: Lab writeup**\n",
        "\n",
        "Your lab report should discuss any implementation details that were important to filling out the code above. Then, use the code to set up experiments that answer the following questions:\n",
        "\n",
        "1. In this lab we use greedy search for decoding, that is, always taking the most probable word at current timestep as prediction. Describe an alternative decoding method that might work better than greedy search. You don't have to implement it.\n",
        "\n",
        "2. Pick some samples from dev or test set and visualize their attention maps. Discuss your findings. Hint: compute the attention scores on the input words for each timestep during decoding.\n",
        "\n",
        "3. Compare the performance of seq2seq with and without attention on sentences of different lengths. You can set some length intervals (e.g., 1-10, 11-20, 21-30, 31-40, 41-50) and compare the two models' performance within each length interval. Discuss your findings.\n",
        "\n",
        "4. Try to improve your BLEU score. For example, try stacking more RNN layers, switching cell types, or applying bi-direction to encoder. Describe what you try, even if they don't show improvement. Hints:\n",
        "  * TA's preliminary implementation of seq2seq with attention model achieves around 16. You don't have to surpass it (although it's pretty simple to do so)--this number is just to give you some sense of what a baseline should get.\n",
        "  * Training on the entire training set takes some time. So tune your hyperparameters on a smaller training set (you can do so by changing `sampling` when creating the data loader)."
      ]
    }
  ]
}